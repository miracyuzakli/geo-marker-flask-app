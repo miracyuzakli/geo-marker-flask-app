{
 "cells": [
  {
   "cell_type": "code",
   "execution_count": 12,
   "metadata": {},
   "outputs": [
    {
     "name": "stdout",
     "output_type": "stream",
     "text": [
      "Value: [43.73087328679255, -79.39060881980885]\n",
      "Value: [43.729763817022715, -79.38907914398482]\n",
      "Value: [43.72847857052134, -79.38783844316647]\n",
      "Value: [43.72705660866904, -79.38692440544946]\n",
      "Value: [43.72554114505725, -79.38636478468045]\n",
      "Value: [43.729763817022715, -79.39809492492388]\n",
      "Value: [43.73087328679255, -79.39656524909985]\n"
     ]
    }
   ],
   "source": [
    "import requests\n",
    "import pandas as pd\n",
    "import json\n",
    "from geopy.distance import geodesic\n",
    "import numpy as np\n",
    "\n",
    "# Belirtilen koordinatlar\n",
    "coordinates = [\n",
    "    {\"latitude\": 43.73135977597092, \"longitude\": -79.3972995741272},\n",
    "    {\"latitude\": 43.73084810629019, \"longitude\": -79.38549785446168},\n",
    "    {\"latitude\": 43.723978905235484, \"longitude\": -79.38717155288697},\n",
    "    {\"latitude\": 43.7258397146906, \"longitude\": -79.39858703445435}\n",
    "]\n",
    "\n",
    "# Sınırları belirle\n",
    "latitudes = [coord['latitude'] for coord in coordinates]\n",
    "longitudes = [coord['longitude'] for coord in coordinates]\n",
    "min_lat, max_lat = min(latitudes), max(latitudes)\n",
    "min_lon, max_lon = min(longitudes), max(longitudes)\n",
    "\n",
    "# Sonuçları saklamak için bir sözlük\n",
    "results = {}\n",
    "\n",
    "# Her bir nokta için 1 km yarıçap içindeki noktaları taramak için bir döngü\n",
    "step = 0.01\n",
    "for lat in np.arange(min_lat, max_lat, step):\n",
    "    for lon in np.arange(min_lon, max_lon, step):\n",
    "        central_point = (lat, lon)\n",
    "\n",
    "        # Yarıçap içindeki noktaları kontrol et\n",
    "        for angle in range(0, 360, 10):\n",
    "            new_point = geodesic(kilometers=1).destination(central_point, angle)\n",
    "            new_lat, new_lon = new_point.latitude, new_point.longitude\n",
    "\n",
    "            if min_lat <= new_lat <= max_lat and min_lon <= new_lon <= max_lon:\n",
    "                key = f\"{new_lat}-{new_lon}\"\n",
    "                results[key] = [new_lat, new_lon]\n",
    "\n",
    "for key, value in results.items():\n",
    "    print(f\"Value: {value}\")"
   ]
  },
  {
   "cell_type": "code",
   "execution_count": 37,
   "metadata": {},
   "outputs": [],
   "source": [
    "with open('cookie.txt','r') as file:\n",
    "    cookie = file.read()"
   ]
  },
  {
   "cell_type": "code",
   "execution_count": 38,
   "metadata": {},
   "outputs": [
    {
     "data": {
      "text/plain": [
       "{'area': 38,\n",
       " 'centroid': {'latitude': 43.66814, 'longitude': -79.38075},\n",
       " 'condo': 'N',\n",
       " 'considerationAmount': 160000,\n",
       " 'distance': 7017.0,\n",
       " 'pin': '211080127',\n",
       " 'registrationDate': '2023/12/21 00:00',\n",
       " 'yearBuilt': None,\n",
       " 'propertyCode': None,\n",
       " 'rollNumber': None,\n",
       " 'streetViewUrl': None,\n",
       " 'teranetPropertyType': None,\n",
       " 'areaInAcres': 0.0,\n",
       " 'id': 95,\n",
       " 'lro': '80',\n",
       " 'useAcres': False,\n",
       " 'saleAddressStr': '87 ISABELLA ST REAR, TORONTO'}"
      ]
     },
     "execution_count": 38,
     "metadata": {},
     "output_type": "execute_result"
    }
   ],
   "source": [
    "import requests\n",
    "import json\n",
    "\n",
    "url = \"https://collaboration.geowarehouse.ca/gema-rest/rest/comparableSales/circle?sort=area&direction=asc\"\n",
    "\n",
    "\n",
    "\n",
    "area_list = list()\n",
    "condo_list = list()\n",
    "considerationAmount_list = list()\n",
    "distance_list = list()\n",
    "pin_list = list()\n",
    "registrationDate_list = list()\n",
    "yearBuilt_list = list()\n",
    "propertyCode_list = list()\n",
    "rollNumber_list = list()\n",
    "streetViewUrl_list = list()\n",
    "teranetPropertyType_list = list()\n",
    "areaInAcres_list = list()\n",
    "id_list = list()\n",
    "lro_list = list()\n",
    "useAcres_list = list()\n",
    "saleAddressStr_list = list()\n",
    "\n",
    "for key,value in results.items():\n",
    "      latitude = value[0]\n",
    "      longitude = value[1]\n",
    "  \n",
    "      payload = json.dumps({\n",
    "        \"center\": {\n",
    "          \"latitude\": latitude,\n",
    "          \"longitude\": longitude\n",
    "        },\n",
    "        \"radiusInMeters\": 10000,\n",
    "        \"lastDays\": 183,\n",
    "        \"minAmount\": 0,\n",
    "        \"maxAmount\": 2500000,\n",
    "        \"condo\": True,\n",
    "        \"saveAsDefault\": True,\n",
    "        \"maxArea\": \"199507673.257241\",\n",
    "        \"minArea\": \"0\",\n",
    "        \"freehold\": True,\n",
    "        \"mps\": False,\n",
    "        \"lro\": 80\n",
    "      })\n",
    "      headers = {\n",
    "        'Cookie': cookie,\n",
    "        'Content-Type': 'application/json'\n",
    "      }\n",
    "\n",
    "      response = requests.request(\"POST\", url, headers=headers, data=payload)\n",
    "      if len(response.json()['sales']) > 0:\n",
    "        for item in range(len(response.json()['sales'])):\n",
    "              value = response.json()['sales'][item]\n",
    "              area_list.append(value['area'])\n",
    "              condo_list.append(value['condo'])\n",
    "              considerationAmount_list.append(value['considerationAmount'])\n",
    "              distance_list.append(value['distance'])\n",
    "              pin_list.append(value['pin'])\n",
    "              registrationDate_list.append(value['registrationDate'])\n",
    "              yearBuilt_list.append(value['yearBuilt'])\n",
    "              propertyCode_list.append(value['propertyCode'])\n",
    "              rollNumber_list.append(value['rollNumber'])\n",
    "              streetViewUrl_list.append(value['streetViewUrl'])\n",
    "              teranetPropertyType_list.append(value['teranetPropertyType'])\n",
    "              areaInAcres_list.append(value['areaInAcres'])\n",
    "              id_list.append(value['id'])\n",
    "              lro_list.append(value['lro'])\n",
    "              useAcres_list.append(value['useAcres'])\n",
    "              saleAddressStr_list.append(value['saleAddressStr'])\n",
    "      else:\n",
    "            \n",
    "          pass\n",
    "\n",
    "      "
   ]
  },
  {
   "cell_type": "code",
   "execution_count": 39,
   "metadata": {},
   "outputs": [
    {
     "data": {
      "text/plain": [
       "1400"
      ]
     },
     "execution_count": 39,
     "metadata": {},
     "output_type": "execute_result"
    }
   ],
   "source": [
    "len(id_list)"
   ]
  },
  {
   "cell_type": "code",
   "execution_count": 41,
   "metadata": {},
   "outputs": [
    {
     "data": {
      "text/plain": [
       "(7400, 16)"
      ]
     },
     "execution_count": 41,
     "metadata": {},
     "output_type": "execute_result"
    }
   ],
   "source": [
    "import pandas as pd \n",
    "\n",
    "df = pd.read_csv(r'C:\\Users\\oktay\\Desktop\\geo-marker-flask-app\\deneme_result.csv')\n",
    "df.shape"
   ]
  },
  {
   "cell_type": "code",
   "execution_count": null,
   "metadata": {},
   "outputs": [],
   "source": []
  }
 ],
 "metadata": {
  "kernelspec": {
   "display_name": "Python 3",
   "language": "python",
   "name": "python3"
  },
  "language_info": {
   "codemirror_mode": {
    "name": "ipython",
    "version": 3
   },
   "file_extension": ".py",
   "mimetype": "text/x-python",
   "name": "python",
   "nbconvert_exporter": "python",
   "pygments_lexer": "ipython3",
   "version": "3.11.3"
  }
 },
 "nbformat": 4,
 "nbformat_minor": 2
}
